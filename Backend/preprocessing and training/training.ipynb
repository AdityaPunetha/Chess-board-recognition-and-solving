{
  "cells": [
    {
      "cell_type": "markdown",
      "metadata": {
        "id": "fe2M4Qrd0LSw"
      },
      "source": [
        "[![Open In Colab](https://colab.research.google.com/assets/colab-badge.svg)](https://colab.research.google.com/github/AdityaPunetha/Chess-board-recognition-and-solving/blob/main/Backend/preprocessing%20and%20training/training.ipynb)\n"
      ]
    },
    {
      "cell_type": "markdown",
      "source": [
        "# Importing dependencies"
      ],
      "metadata": {
        "id": "E73RLbX80Sdw"
      }
    },
    {
      "cell_type": "code",
      "execution_count": 4,
      "metadata": {
        "id": "Z8qcFK6m0LSz"
      },
      "outputs": [],
      "source": [
        "import numpy as np\n",
        "import matplotlib.pyplot as plt\n",
        "import tensorflow as tf\n",
        "from tensorflow import keras\n",
        "from keras import layers\n",
        "\n",
        "%matplotlib inline"
      ]
    },
    {
      "cell_type": "markdown",
      "source": [
        "# Importing data"
      ],
      "metadata": {
        "id": "s7rkYI2j0Xpv"
      }
    },
    {
      "cell_type": "code",
      "source": [
        "!unrar x custom_dataset_100x100_v1.rar"
      ],
      "metadata": {
        "id": "WQDH0-MJ0XDr",
        "outputId": "60ce411c-2b63-4a33-9811-603654462d64",
        "colab": {
          "base_uri": "https://localhost:8080/"
        }
      },
      "execution_count": 7,
      "outputs": [
        {
          "output_type": "stream",
          "name": "stdout",
          "text": [
            "\n",
            "UNRAR 5.50 freeware      Copyright (c) 1993-2017 Alexander Roshal\n",
            "\n",
            "\n",
            "Extracting from custom_dataset_100x100_v1.rar\n",
            "\n",
            "Creating    custom_dataset_100x100_v1                                 OK\n",
            "Creating    custom_dataset_100x100_v1/12647934182352596082            OK\n",
            "Creating    custom_dataset_100x100_v1/12647934182352596082/00000000.shard  OK\n",
            "Extracting  custom_dataset_100x100_v1/12647934182352596082/00000000.shard/00000000.snapshot     \b\b\b\b 99%\b\b\b\b\b  OK \n",
            "Extracting  custom_dataset_100x100_v1/dataset_spec.pb                    \b\b\b\b 99%\b\b\b\b\b  OK \n",
            "Extracting  custom_dataset_100x100_v1/snapshot.metadata                  \b\b\b\b 99%\b\b\b\b\b  OK \n",
            "All OK\n"
          ]
        }
      ]
    },
    {
      "cell_type": "markdown",
      "source": [
        "# Model"
      ],
      "metadata": {
        "id": "76nhGlFv8vn8"
      }
    },
    {
      "cell_type": "code",
      "source": [
        "model = keras.Sequential(\n",
        "    [\n",
        "        layers.Input((100,100, 1)),\n",
        "        layers.Conv2D(16, 3, padding=\"same\"),\n",
        "        layers.Conv2D(32, 3, padding=\"same\"),\n",
        "        layers.MaxPooling2D(),\n",
        "        layers.Flatten(),\n",
        "        layers.Dense(13),\n",
        "    ]\n",
        ")"
      ],
      "metadata": {
        "id": "SitkXJrG0XAM"
      },
      "execution_count": 17,
      "outputs": []
    },
    {
      "cell_type": "code",
      "source": [
        "model.compile(\n",
        "    optimizer=keras.optimizers.Adam(),\n",
        "    loss=[keras.losses.CategoricalCrossentropy(from_logits=True),],\n",
        "    metrics=[\"accuracy\"],\n",
        ")"
      ],
      "metadata": {
        "id": "UAoNtN7u0W9t"
      },
      "execution_count": 18,
      "outputs": []
    },
    {
      "cell_type": "code",
      "source": [
        "model.fit(data, epochs=10, verbose=2)"
      ],
      "metadata": {
        "id": "bJ3CO0sa0W7B",
        "outputId": "6a43bd46-cb0a-4bbe-c490-b903a11c6463",
        "colab": {
          "base_uri": "https://localhost:8080/"
        }
      },
      "execution_count": 19,
      "outputs": [
        {
          "output_type": "stream",
          "name": "stdout",
          "text": [
            "Epoch 1/10\n",
            "10/10 - 2s - loss: 2585.2429 - accuracy: 0.0860 - 2s/epoch - 172ms/step\n",
            "Epoch 2/10\n",
            "10/10 - 1s - loss: 1178.9282 - accuracy: 0.1290 - 1s/epoch - 132ms/step\n",
            "Epoch 3/10\n",
            "10/10 - 1s - loss: 151.4912 - accuracy: 0.3763 - 1s/epoch - 131ms/step\n",
            "Epoch 4/10\n",
            "10/10 - 1s - loss: 63.1592 - accuracy: 0.6452 - 1s/epoch - 130ms/step\n",
            "Epoch 5/10\n",
            "10/10 - 1s - loss: 41.2322 - accuracy: 0.7849 - 1s/epoch - 130ms/step\n",
            "Epoch 6/10\n",
            "10/10 - 1s - loss: 30.4248 - accuracy: 0.7527 - 1s/epoch - 131ms/step\n",
            "Epoch 7/10\n",
            "10/10 - 1s - loss: 14.0249 - accuracy: 0.8602 - 1s/epoch - 131ms/step\n",
            "Epoch 8/10\n",
            "10/10 - 1s - loss: 2.5256 - accuracy: 0.9677 - 1s/epoch - 132ms/step\n",
            "Epoch 9/10\n",
            "10/10 - 1s - loss: 3.3285 - accuracy: 0.9247 - 1s/epoch - 130ms/step\n",
            "Epoch 10/10\n",
            "10/10 - 1s - loss: 1.9082 - accuracy: 0.9570 - 1s/epoch - 131ms/step\n"
          ]
        },
        {
          "output_type": "execute_result",
          "data": {
            "text/plain": [
              "<keras.callbacks.History at 0x7f7461e63950>"
            ]
          },
          "metadata": {},
          "execution_count": 19
        }
      ]
    },
    {
      "cell_type": "markdown",
      "source": [
        "\n",
        "# Saving model"
      ],
      "metadata": {
        "id": "W-GHad7e1EZ1"
      }
    },
    {
      "cell_type": "code",
      "source": [
        "model.save('model_custom_dataset_100x100_v1')"
      ],
      "metadata": {
        "id": "br4BOuaP1Cmw",
        "outputId": "da1a32a5-ed23-4565-9fb4-4b818736cffc",
        "colab": {
          "base_uri": "https://localhost:8080/"
        }
      },
      "execution_count": 21,
      "outputs": [
        {
          "output_type": "stream",
          "name": "stdout",
          "text": [
            "INFO:tensorflow:Assets written to: model_custom_dataset_100x100_v1/assets\n"
          ]
        }
      ]
    },
    {
      "cell_type": "code",
      "source": [
        "!zip -r model_custom_dataset_100x100_v1.zip model_custom_dataset_100x100_v1"
      ],
      "metadata": {
        "id": "rfWj8FLc9oe-",
        "outputId": "0e7874b5-1fd4-4fb0-98cd-b45cee31d235",
        "colab": {
          "base_uri": "https://localhost:8080/"
        }
      },
      "execution_count": 22,
      "outputs": [
        {
          "output_type": "stream",
          "name": "stdout",
          "text": [
            "  adding: model_custom_dataset_100x100_v1/ (stored 0%)\n",
            "  adding: model_custom_dataset_100x100_v1/assets/ (stored 0%)\n",
            "  adding: model_custom_dataset_100x100_v1/variables/ (stored 0%)\n",
            "  adding: model_custom_dataset_100x100_v1/variables/variables.index (deflated 63%)\n",
            "  adding: model_custom_dataset_100x100_v1/variables/variables.data-00000-of-00001 (deflated 7%)\n",
            "  adding: model_custom_dataset_100x100_v1/keras_metadata.pb (deflated 88%)\n",
            "  adding: model_custom_dataset_100x100_v1/saved_model.pb (deflated 88%)\n"
          ]
        }
      ]
    }
  ],
  "metadata": {
    "interpreter": {
      "hash": "820d38e3516b6e5c2784772beba4f3d77c0ca5a57beccbcfd727188b63c2ae2e"
    },
    "kernelspec": {
      "display_name": "Python 3.9.7 64-bit ('cudaProject': conda)",
      "language": "python",
      "name": "python3"
    },
    "language_info": {
      "name": "python",
      "version": "3.9.7"
    },
    "orig_nbformat": 4,
    "colab": {
      "name": "training.ipynb",
      "provenance": []
    }
  },
  "nbformat": 4,
  "nbformat_minor": 0
}