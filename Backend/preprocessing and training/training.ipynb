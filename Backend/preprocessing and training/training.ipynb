{
  "cells": [
    {
      "cell_type": "markdown",
      "metadata": {
        "id": "fe2M4Qrd0LSw"
      },
      "source": [
        "[![Open In Colab](https://colab.research.google.com/assets/colab-badge.svg)](https://colab.research.google.com/github/AdityaPunetha/Chess-board-recognition-and-solving/blob/main/Backend/preprocessing%20and%20training/training.ipynb)\n"
      ]
    },
    {
      "cell_type": "markdown",
      "source": [
        "# Importing dependencies"
      ],
      "metadata": {
        "id": "E73RLbX80Sdw"
      }
    },
    {
      "cell_type": "code",
      "execution_count": 1,
      "metadata": {
        "id": "Z8qcFK6m0LSz"
      },
      "outputs": [],
      "source": [
        "import numpy as np\n",
        "import matplotlib.pyplot as plt\n",
        "import tensorflow as tf\n",
        "from tensorflow import keras\n",
        "from keras import layers\n",
        "\n",
        "%matplotlib inline"
      ]
    },
    {
      "cell_type": "markdown",
      "source": [
        "# Importing data"
      ],
      "metadata": {
        "id": "s7rkYI2j0Xpv"
      }
    },
    {
      "cell_type": "code",
      "source": [
        "!unrar x custom_dataset_100x100_v2.rar"
      ],
      "metadata": {
        "id": "WQDH0-MJ0XDr",
        "outputId": "9fe76385-2cbd-41cc-8630-10984b5bf066",
        "colab": {
          "base_uri": "https://localhost:8080/"
        }
      },
      "execution_count": 2,
      "outputs": [
        {
          "output_type": "stream",
          "name": "stdout",
          "text": [
            "\n",
            "UNRAR 5.50 freeware      Copyright (c) 1993-2017 Alexander Roshal\n",
            "\n",
            "\n",
            "Extracting from custom_dataset_100x100_v2.rar\n",
            "\n",
            "Creating    custom_dataset_100x100_v2                                 OK\n",
            "Creating    custom_dataset_100x100_v2/2813099864334812036             OK\n",
            "Creating    custom_dataset_100x100_v2/2813099864334812036/00000000.shard  OK\n",
            "Extracting  custom_dataset_100x100_v2/2813099864334812036/00000000.shard/00000000.snapshot     \b\b\b\b 99%\b\b\b\b\b  OK \n",
            "Extracting  custom_dataset_100x100_v2/dataset_spec.pb                    \b\b\b\b 99%\b\b\b\b\b  OK \n",
            "Extracting  custom_dataset_100x100_v2/snapshot.metadata                  \b\b\b\b 99%\b\b\b\b\b  OK \n",
            "All OK\n"
          ]
        }
      ]
    },
    {
      "cell_type": "markdown",
      "source": [
        "# Model"
      ],
      "metadata": {
        "id": "76nhGlFv8vn8"
      }
    },
    {
      "cell_type": "code",
      "source": [
        "model = keras.Sequential(\n",
        "    [\n",
        "        layers.Input((100,100, 1)),\n",
        "        layers.Conv2D(16, 3, padding=\"same\"),\n",
        "        layers.Conv2D(32, 3, padding=\"same\"),\n",
        "        layers.MaxPooling2D(),\n",
        "        layers.Flatten(),\n",
        "        layers.Dense(13),\n",
        "    ]\n",
        ")"
      ],
      "metadata": {
        "id": "SitkXJrG0XAM"
      },
      "execution_count": 3,
      "outputs": []
    },
    {
      "cell_type": "code",
      "source": [
        "model.compile(\n",
        "    optimizer=keras.optimizers.Adam(),\n",
        "    loss=[keras.losses.CategoricalCrossentropy(from_logits=True),],\n",
        "    metrics=[\"accuracy\"],\n",
        ")"
      ],
      "metadata": {
        "id": "UAoNtN7u0W9t"
      },
      "execution_count": 4,
      "outputs": []
    },
    {
      "cell_type": "code",
      "source": [
        "data = tf.data.experimental.load(\n",
        "    'custom_dataset_100x100_v2', element_spec=None, compression=None, reader_func=None\n",
        ")"
      ],
      "metadata": {
        "id": "Vf70XklVXMdq"
      },
      "execution_count": 6,
      "outputs": []
    },
    {
      "cell_type": "code",
      "source": [
        "model.fit(data, epochs=10, verbose=2)"
      ],
      "metadata": {
        "id": "bJ3CO0sa0W7B",
        "outputId": "53a4d7c5-2798-489c-9460-8514b6db040a",
        "colab": {
          "base_uri": "https://localhost:8080/"
        }
      },
      "execution_count": 7,
      "outputs": [
        {
          "output_type": "stream",
          "name": "stdout",
          "text": [
            "Epoch 1/10\n",
            "16/16 - 3s - loss: 2109.1436 - accuracy: 0.1019 - 3s/epoch - 188ms/step\n",
            "Epoch 2/10\n",
            "16/16 - 2s - loss: 487.5966 - accuracy: 0.2293 - 2s/epoch - 143ms/step\n",
            "Epoch 3/10\n",
            "16/16 - 2s - loss: 89.2385 - accuracy: 0.6051 - 2s/epoch - 144ms/step\n",
            "Epoch 4/10\n",
            "16/16 - 2s - loss: 25.3199 - accuracy: 0.7580 - 2s/epoch - 143ms/step\n",
            "Epoch 5/10\n",
            "16/16 - 2s - loss: 6.1191 - accuracy: 0.9299 - 2s/epoch - 145ms/step\n",
            "Epoch 6/10\n",
            "16/16 - 2s - loss: 0.8125 - accuracy: 0.9745 - 2s/epoch - 144ms/step\n",
            "Epoch 7/10\n",
            "16/16 - 2s - loss: 4.9572e-06 - accuracy: 1.0000 - 2s/epoch - 149ms/step\n",
            "Epoch 8/10\n",
            "16/16 - 2s - loss: 0.0274 - accuracy: 0.9936 - 2s/epoch - 144ms/step\n",
            "Epoch 9/10\n",
            "16/16 - 2s - loss: 0.6499 - accuracy: 0.9809 - 2s/epoch - 147ms/step\n",
            "Epoch 10/10\n",
            "16/16 - 2s - loss: 0.0101 - accuracy: 0.9936 - 2s/epoch - 142ms/step\n"
          ]
        },
        {
          "output_type": "execute_result",
          "data": {
            "text/plain": [
              "<keras.callbacks.History at 0x7f835e253cd0>"
            ]
          },
          "metadata": {},
          "execution_count": 7
        }
      ]
    },
    {
      "cell_type": "markdown",
      "source": [
        "\n",
        "# Saving model"
      ],
      "metadata": {
        "id": "W-GHad7e1EZ1"
      }
    },
    {
      "cell_type": "code",
      "source": [
        "model.save('model_custom_dataset_100x100_v2')"
      ],
      "metadata": {
        "id": "br4BOuaP1Cmw",
        "outputId": "37b064b0-fc59-4bb6-98da-b58bfe0c5aaa",
        "colab": {
          "base_uri": "https://localhost:8080/"
        }
      },
      "execution_count": 8,
      "outputs": [
        {
          "output_type": "stream",
          "name": "stdout",
          "text": [
            "INFO:tensorflow:Assets written to: model_custom_dataset_100x100_v2/assets\n"
          ]
        }
      ]
    },
    {
      "cell_type": "code",
      "source": [
        "!zip -r model_custom_dataset_100x100_v2.zip model_custom_dataset_100x100_v2"
      ],
      "metadata": {
        "id": "rfWj8FLc9oe-",
        "outputId": "458ec4da-2d4a-45de-cadf-169e95b0f505",
        "colab": {
          "base_uri": "https://localhost:8080/"
        }
      },
      "execution_count": 9,
      "outputs": [
        {
          "output_type": "stream",
          "name": "stdout",
          "text": [
            "  adding: model_custom_dataset_100x100_v2/ (stored 0%)\n",
            "  adding: model_custom_dataset_100x100_v2/saved_model.pb (deflated 88%)\n",
            "  adding: model_custom_dataset_100x100_v2/assets/ (stored 0%)\n",
            "  adding: model_custom_dataset_100x100_v2/keras_metadata.pb (deflated 88%)\n",
            "  adding: model_custom_dataset_100x100_v2/variables/ (stored 0%)\n",
            "  adding: model_custom_dataset_100x100_v2/variables/variables.data-00000-of-00001 (deflated 7%)\n",
            "  adding: model_custom_dataset_100x100_v2/variables/variables.index (deflated 62%)\n"
          ]
        }
      ]
    }
  ],
  "metadata": {
    "interpreter": {
      "hash": "820d38e3516b6e5c2784772beba4f3d77c0ca5a57beccbcfd727188b63c2ae2e"
    },
    "kernelspec": {
      "display_name": "Python 3.9.7 64-bit ('cudaProject': conda)",
      "language": "python",
      "name": "python3"
    },
    "language_info": {
      "name": "python",
      "version": "3.9.7"
    },
    "orig_nbformat": 4,
    "colab": {
      "name": "training.ipynb",
      "provenance": []
    }
  },
  "nbformat": 4,
  "nbformat_minor": 0
}